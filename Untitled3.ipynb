{
  "nbformat": 4,
  "nbformat_minor": 0,
  "metadata": {
    "colab": {
      "provenance": [],
      "authorship_tag": "ABX9TyNJga4q5sY+NIo6yJC4R2Kt",
      "include_colab_link": true
    },
    "kernelspec": {
      "name": "python3",
      "display_name": "Python 3"
    },
    "language_info": {
      "name": "python"
    }
  },
  "cells": [
    {
      "cell_type": "markdown",
      "metadata": {
        "id": "view-in-github",
        "colab_type": "text"
      },
      "source": [
        "<a href=\"https://colab.research.google.com/github/Deesha-sekar/CODSOFT/blob/main/Untitled3.ipynb\" target=\"_parent\"><img src=\"https://colab.research.google.com/assets/colab-badge.svg\" alt=\"Open In Colab\"/></a>"
      ]
    },
    {
      "cell_type": "code",
      "execution_count": 1,
      "metadata": {
        "colab": {
          "base_uri": "https://localhost:8080/"
        },
        "id": "w1GuNYRmN7x1",
        "outputId": "413cf3a6-6cbd-4cfd-e293-8f0e8ab150c9"
      },
      "outputs": [
        {
          "output_type": "stream",
          "name": "stdout",
          "text": [
            "\n",
            "--- Rock Paper Scissors ---\n",
            "Enter your choice (rock, paper, or scissors): rock\n",
            "You chose: rock\n",
            "Computer chose: rock\n",
            "It's a tie!\n",
            "Play another round? (yes/no): yes\n",
            "\n",
            "--- Rock Paper Scissors ---\n",
            "Enter your choice (rock, paper, or scissors): paper\n",
            "You chose: paper\n",
            "Computer chose: rock\n",
            "You win!\n",
            "Play another round? (yes/no): no\n",
            "Thanks for playing!\n"
          ]
        }
      ],
      "source": [
        "# prompt: prompt the user to chose a rock paper or scissors .Generate a random choice for the computer, determine the winner based on the user choice and the computer choice , rock beats scissors, scissors beats paper, and paper beats rock ask the user if they want to pay another round design an user friendly interface for eassy interaction\n",
        "\n",
        "import random\n",
        "\n",
        "def get_user_choice():\n",
        "  \"\"\"Prompts the user to choose rock, paper, or scissors.\"\"\"\n",
        "  while True:\n",
        "    user_input = input(\"Enter your choice (rock, paper, or scissors): \").lower()\n",
        "    if user_input in ['rock', 'paper', 'scissors']:\n",
        "      return user_input\n",
        "    else:\n",
        "      print(\"Invalid choice. Please enter rock, paper, or scissors.\")\n",
        "\n",
        "def get_computer_choice():\n",
        "  \"\"\"Generates a random choice for the computer.\"\"\"\n",
        "  choices = ['rock', 'paper', 'scissors']\n",
        "  return random.choice(choices)\n",
        "\n",
        "def determine_winner(user_choice, computer_choice):\n",
        "  \"\"\"Determines the winner of the round.\"\"\"\n",
        "  if user_choice == computer_choice:\n",
        "    return \"It's a tie!\"\n",
        "  elif (user_choice == 'rock' and computer_choice == 'scissors') or \\\n",
        "       (user_choice == 'scissors' and computer_choice == 'paper') or \\\n",
        "       (user_choice == 'paper' and computer_choice == 'rock'):\n",
        "    return \"You win!\"\n",
        "  else:\n",
        "    return \"Computer wins!\"\n",
        "\n",
        "def play_game():\n",
        "  \"\"\"Plays a round of Rock Paper Scissors.\"\"\"\n",
        "  print(\"\\n--- Rock Paper Scissors ---\")\n",
        "  user_choice = get_user_choice()\n",
        "  computer_choice = get_computer_choice()\n",
        "  print(f\"You chose: {user_choice}\")\n",
        "  print(f\"Computer chose: {computer_choice}\")\n",
        "  result = determine_winner(user_choice, computer_choice)\n",
        "  print(result)\n",
        "\n",
        "def main():\n",
        "  \"\"\"Main function to play multiple rounds.\"\"\"\n",
        "  while True:\n",
        "    play_game()\n",
        "    while True:\n",
        "      play_again = input(\"Play another round? (yes/no): \").lower()\n",
        "      if play_again in ['yes', 'no']:\n",
        "        break\n",
        "      else:\n",
        "        print(\"Invalid input. Please enter yes or no.\")\n",
        "    if play_again == 'no':\n",
        "      print(\"Thanks for playing!\")\n",
        "      break\n",
        "\n",
        "if __name__ == \"__main__\":\n",
        "  main()\n"
      ]
    }
  ]
}