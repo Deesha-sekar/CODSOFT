{
  "nbformat": 4,
  "nbformat_minor": 0,
  "metadata": {
    "colab": {
      "provenance": [],
      "authorship_tag": "ABX9TyODCi4OG60MFd/vcP4GRnoG",
      "include_colab_link": true
    },
    "kernelspec": {
      "name": "python3",
      "display_name": "Python 3"
    },
    "language_info": {
      "name": "python"
    }
  },
  "cells": [
    {
      "cell_type": "markdown",
      "metadata": {
        "id": "view-in-github",
        "colab_type": "text"
      },
      "source": [
        "<a href=\"https://colab.research.google.com/github/Deesha-sekar/CODSOFT/blob/main/Untitled0.ipynb\" target=\"_parent\"><img src=\"https://colab.research.google.com/assets/colab-badge.svg\" alt=\"Open In Colab\"/></a>"
      ]
    },
    {
      "cell_type": "code",
      "execution_count": null,
      "metadata": {
        "colab": {
          "base_uri": "https://localhost:8080/"
        },
        "id": "komACiiNDAlT",
        "outputId": "c13fb44f-f7cc-4342-b148-86c4dcfd6177"
      },
      "outputs": [
        {
          "output_type": "stream",
          "name": "stdout",
          "text": [
            "\n",
            "To-Do List Application\n",
            "1. Add Task\n",
            "2. View Tasks\n",
            "3. Mark Task Complete\n",
            "4. Remove Task\n",
            "5. Exit\n"
          ]
        }
      ],
      "source": [
        "# prompt: to do list applicaton is a useful  project that helps users to manage and organize the tasks efficiently aims to create command line\n",
        "\n",
        "def add_task(tasks):\n",
        "    task = input(\"Enter a new task: \")\n",
        "    tasks.append({\"task\": task, \"completed\": False})\n",
        "    print(\"Task added.\")\n",
        "\n",
        "def view_tasks(tasks):\n",
        "    if not tasks:\n",
        "        print(\"No tasks in the list.\")\n",
        "        return\n",
        "    print(\"\\n--- Your To-Do List ---\")\n",
        "    for index, task_item in enumerate(tasks):\n",
        "        status = \"✓\" if task_item[\"completed\"] else \" \"\n",
        "        print(f\"{index + 1}. [{status}] {task_item['task']}\")\n",
        "    print(\"--------------------\")\n",
        "\n",
        "def mark_complete(tasks):\n",
        "    view_tasks(tasks)\n",
        "    try:\n",
        "        task_number = int(input(\"Enter the task number to mark as complete: \")) - 1\n",
        "        if 0 <= task_number < len(tasks):\n",
        "            tasks[task_number][\"completed\"] = True\n",
        "            print(\"Task marked as complete.\")\n",
        "        else:\n",
        "            print(\"Invalid task number.\")\n",
        "    except ValueError:\n",
        "        print(\"Invalid input. Please enter a number.\")\n",
        "\n",
        "def remove_task(tasks):\n",
        "    view_tasks(tasks)\n",
        "    try:\n",
        "        task_number = int(input(\"Enter the task number to remove: \")) - 1\n",
        "        if 0 <= task_number < len(tasks):\n",
        "            removed_task = tasks.pop(task_number)\n",
        "            print(f\"Task '{removed_task['task']}' removed.\")\n",
        "        else:\n",
        "            print(\"Invalid task number.\")\n",
        "    except ValueError:\n",
        "        print(\"Invalid input. Please enter a number.\")\n",
        "\n",
        "def main():\n",
        "    tasks = []\n",
        "\n",
        "    while True:\n",
        "        print(\"\\nTo-Do List Application\")\n",
        "        print(\"1. Add Task\")\n",
        "        print(\"2. View Tasks\")\n",
        "        print(\"3. Mark Task Complete\")\n",
        "        print(\"4. Remove Task\")\n",
        "        print(\"5. Exit\")\n",
        "\n",
        "        choice = input(\"Enter your choice: \")\n",
        "\n",
        "        if choice == '1':\n",
        "            add_task(tasks)\n",
        "        elif choice == '2':\n",
        "            view_tasks(tasks)\n",
        "        elif choice == '3':\n",
        "            mark_complete(tasks)\n",
        "        elif choice == '4':\n",
        "            remove_task(tasks)\n",
        "        elif choice == '5':\n",
        "            print(\"Exiting To-Do List Application.\")\n",
        "            break\n",
        "        else:\n",
        "            print(\"Invalid choice. Please try again.\")\n",
        "\n",
        "if __name__ == \"__main__\":\n",
        "    main()\n"
      ]
    }
  ]
}