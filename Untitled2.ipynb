{
  "nbformat": 4,
  "nbformat_minor": 0,
  "metadata": {
    "colab": {
      "provenance": [],
      "authorship_tag": "ABX9TyNrAEfmvfz+3msGk1PoEjaV",
      "include_colab_link": true
    },
    "kernelspec": {
      "name": "python3",
      "display_name": "Python 3"
    },
    "language_info": {
      "name": "python"
    }
  },
  "cells": [
    {
      "cell_type": "markdown",
      "metadata": {
        "id": "view-in-github",
        "colab_type": "text"
      },
      "source": [
        "<a href=\"https://colab.research.google.com/github/Deesha-sekar/CODSOFT/blob/main/Untitled2.ipynb\" target=\"_parent\"><img src=\"https://colab.research.google.com/assets/colab-badge.svg\" alt=\"Open In Colab\"/></a>"
      ]
    },
    {
      "cell_type": "code",
      "execution_count": 1,
      "metadata": {
        "colab": {
          "base_uri": "https://localhost:8080/"
        },
        "id": "E_CX38eBMaHB",
        "outputId": "4bcbde4f-76f8-4260-e699-eae3e6cc63e6"
      },
      "outputs": [
        {
          "output_type": "stream",
          "name": "stdout",
          "text": [
            "Enter the desired password length: 8\n",
            "Generated password: @KlMZgx:\n"
          ]
        }
      ],
      "source": [
        "# prompt: prompt the user to specify the desired length of the password. use a combination of random characters to generate a password of the specified length print the generated password on the screen\n",
        "\n",
        "import random\n",
        "import string\n",
        "\n",
        "def generate_password(length):\n",
        "  \"\"\"Generates a random password of a specified length.\"\"\"\n",
        "  characters = string.ascii_letters + string.digits + string.punctuation\n",
        "  password = ''.join(random.choice(characters) for i in range(length))\n",
        "  return password\n",
        "\n",
        "# Prompt user for password length\n",
        "while True:\n",
        "  try:\n",
        "    password_length = int(input(\"Enter the desired password length: \"))\n",
        "    if password_length > 0:\n",
        "      break\n",
        "    else:\n",
        "      print(\"Please enter a positive number.\")\n",
        "  except ValueError:\n",
        "    print(\"Invalid input. Please enter an integer.\")\n",
        "\n",
        "# Generate and print the password\n",
        "generated_password = generate_password(password_length)\n",
        "print(\"Generated password:\", generated_password)\n"
      ]
    }
  ]
}